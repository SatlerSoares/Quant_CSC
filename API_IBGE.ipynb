{
  "cells": [
    {
      "cell_type": "markdown",
      "id": "ad2d00dc",
      "metadata": {
        "id": "ad2d00dc"
      },
      "source": [
        "### API IBGE\n",
        "\n",
        "https://servicodados.ibge.gov.br/api/docs"
      ]
    },
    {
      "cell_type": "code",
      "execution_count": 3,
      "id": "17ec9d9f",
      "metadata": {
        "id": "17ec9d9f",
        "colab": {
          "base_uri": "https://localhost:8080/"
        },
        "outputId": "dc5d3113-03b3-4a59-c74e-4b2533535c54"
      },
      "outputs": [
        {
          "output_type": "stream",
          "name": "stdout",
          "text": [
            "[{'localidade': {'id': '1',\n",
            "                 'nivel': {'id': 'N1', 'nome': 'Brasil'},\n",
            "                 'nome': 'Brasil'},\n",
            "  'serie': {'199801': '0.59'}}]\n"
          ]
        }
      ],
      "source": [
        "import requests\n",
        "\n",
        "link = \"https://servicodados.ibge.gov.br/api/v3/agregados/118/periodos/199801/variaveis/306?localidades=N1[all]\" #\"https://servicodados.ibge.gov.br/api/v3/agregados/7392/periodos/2014/variaveis/10484?localidades=N1[all]\"\n",
        "\n",
        "requisicao = requests.get(link)\n",
        "informacoes = requisicao.json()\n",
        "\n",
        "#import pprint\n",
        "\n",
        "#pprint.pprint(informacoes[0]['resultados'][0]['series'])\n",
        "\n",
        "item_busca = informacoes[0]['variavel'] # variavel\n",
        "resultados = informacoes[0]['resultados'][0]['series'] # series"
      ]
    },
    {
      "cell_type": "code",
      "execution_count": 2,
      "id": "670b08a3",
      "metadata": {
        "id": "670b08a3",
        "outputId": "5f35bf58-2039-484a-f3bf-2b6d817ef105",
        "colab": {
          "base_uri": "https://localhost:8080/"
        }
      },
      "outputs": [
        {
          "output_type": "stream",
          "name": "stdout",
          "text": [
            "IPCA dessazonalizado - Variação mensal\n",
            "[{'localidade': {'id': '1', 'nivel': {'id': 'N1', 'nome': 'Brasil'}, 'nome': 'Brasil'}, 'serie': {'199801': '0.59'}}]\n"
          ]
        }
      ],
      "source": [
        "print(item_busca)\n",
        "print(resultados)"
      ]
    }
  ],
  "metadata": {
    "kernelspec": {
      "display_name": "Python 3 (ipykernel)",
      "language": "python",
      "name": "python3"
    },
    "language_info": {
      "codemirror_mode": {
        "name": "ipython",
        "version": 3
      },
      "file_extension": ".py",
      "mimetype": "text/x-python",
      "name": "python",
      "nbconvert_exporter": "python",
      "pygments_lexer": "ipython3",
      "version": "3.9.7"
    },
    "colab": {
      "provenance": []
    }
  },
  "nbformat": 4,
  "nbformat_minor": 5
}