{
  "cells": [
    {
      "cell_type": "markdown",
      "metadata": {
        "id": "jcEHv8L_pkga"
      },
      "source": [
        "# Pegando VLMO(CVM art°358) do repositório da CVM\n",
        "\n",
        "Primeiramente devemos acessar o repositório da CVM:\n",
        "\n",
        "http://dados.cvm.gov.br/dados/\n",
        "\n",
        "Outra maneira de ser acessar estes dados é no rad.cvm.gov.br. Este sistema é capaz de buscar as informações e apresentá-las de maneira organizada. Porém ele não é muito simples para se fazer um webscrapping. Por isso optamos por importar os dados via CSV.\n",
        "https://dados.cvm.gov.br/dataset/cia_aberta-doc-vlmo/resource/2beadbf7-1772-4537-865a-b0fb5dee4487\n",
        "https://www.rad.cvm.gov.br/ENET/frmConsultaExternaCVM.aspx\n",
        "https://dados.cvm.gov.br/dados/CIA_ABERTA/DOC/VLMO/DADOS/vlmo_cia_aberta_2024.zip\n",
        "        "
      ]
    },
    {
      "cell_type": "markdown",
      "metadata": {
        "id": "dyIoNEcYpkgc"
      },
      "source": [
        "## Download dos dados gerais em CSV\n",
        "\n",
        "Download dos ZIPs que contêm as VLMOs no formato CSV."
      ]
    },
    {
      "cell_type": "code",
      "execution_count": 1,
      "metadata": {
        "colab": {
          "base_uri": "https://localhost:8080/"
        },
        "id": "dJf5MdOppkgc",
        "outputId": "a2d09a8e-81a5-4bdb-aedf-36f8c14e0ff0",
        "scrolled": true
      },
      "outputs": [
        {
          "name": "stdout",
          "output_type": "stream",
          "text": [
            "Arquivio: vlmo_cia_aberta_2018.zip\n",
            "Download...\n",
            "Unzip...\n",
            "Arquivio: vlmo_cia_aberta_2019.zip\n",
            "Download...\n",
            "Unzip...\n",
            "Arquivio: vlmo_cia_aberta_2020.zip\n",
            "Download...\n",
            "Unzip...\n",
            "Arquivio: vlmo_cia_aberta_2021.zip\n",
            "Download...\n",
            "Unzip...\n",
            "Arquivio: vlmo_cia_aberta_2022.zip\n",
            "Download...\n",
            "Unzip...\n",
            "Arquivio: vlmo_cia_aberta_2023.zip\n",
            "Download...\n",
            "Unzip...\n"
          ]
        }
      ],
      "source": [
        "import requests\n",
        "import zipfile\n",
        "\n",
        "def download():\n",
        "    cvmzip_list = [\n",
        "        'vlmo_cia_aberta_%d.zip' % y for y in range(2018, 2025)\n",
        "    ]\n",
        "\n",
        "    base_url = 'https://dados.cvm.gov.br/dados/CIA_ABERTA/DOC/VLMO/DADOS/'\n",
        "\n",
        "    for cvmzip in cvmzip_list:\n",
        "        print('Arquivio:', cvmzip)\n",
        "        response = requests.get(base_url + cvmzip)\n",
        "        with open(cvmzip, 'wb') as fp:\n",
        "            print('Download...')\n",
        "            fp.write(response.content)\n",
        "\n",
        "        with zipfile.ZipFile(cvmzip, 'r') as zip_ref:\n",
        "            print('Unzip...')\n",
        "            zip_ref.extractall()\n",
        "\n",
        "download()"
      ]
    },
    {
      "cell_type": "markdown",
      "metadata": {
        "id": "pvzfVrvZpkgd"
      },
      "source": [
        "## Carregar os dados\n",
        "\n",
        "Agora carregar os dados com o Pandas"
      ]
    },
    {
      "cell_type": "code",
      "execution_count": 1,
      "metadata": {
        "colab": {
          "base_uri": "https://localhost:8080/"
        },
        "id": "DQzqE30spkge",
        "outputId": "d6f03a5a-b535-4d18-b1d3-f04e0079d79c"
      },
      "outputs": [
        {
          "name": "stdout",
          "output_type": "stream",
          "text": [
            "Dados da empresa 'MARCOPOLO SA' no ano '2024' salvos em 'MARCOPOLO SA_2024_dados.csv'\n"
          ]
        }
      ],
      "source": [
        "import pandas as pd\n",
        "\n",
        "# Função para carregar os dados de todos os anos em um dicionário de DataFrames\n",
        "def carrega_dados():\n",
        "    dados_por_ano = {}\n",
        "\n",
        "    for ano in range(2018, 2025):\n",
        "        nome_arquivo = f'vlmo_cia_aberta_con_{ano}.csv'\n",
        "        try:\n",
        "            df = pd.read_csv(nome_arquivo, delimiter=';', encoding='latin1')\n",
        "            dados_por_ano[ano] = df\n",
        "        except Exception as e:\n",
        "            print(f\"Erro ao ler o arquivo {nome_arquivo}: {e}\")\n",
        "\n",
        "    return dados_por_ano\n",
        "\n",
        "# Função para extrair dados de uma empresa e ano específicos e salvar em um novo CSV\n",
        "def extrair_dados_empresa(nome_empresa, ano_referencia):\n",
        "    # Carregar os dados de todos os anos\n",
        "    dados_por_ano = carrega_dados()\n",
        "\n",
        "    # Verificar se o ano de referência está presente nos dados carregados\n",
        "    if ano_referencia in dados_por_ano:\n",
        "        # Obter o DataFrame correspondente ao ano de referência\n",
        "        df_ano = dados_por_ano[ano_referencia]\n",
        "\n",
        "        # Filtrar os dados da empresa específica para o ano especificado\n",
        "        dados_empresa = df_ano[df_ano['Nome_Companhia'] == nome_empresa]\n",
        "\n",
        "        # Verificar se há dados para a empresa especificada\n",
        "        if not dados_empresa.empty:\n",
        "            # Selecionar colunas desejadas para o novo DataFrame\n",
        "            df_empresa = dados_empresa[['Tipo_Cargo', 'Tipo_Operacao', 'Volume']]\n",
        "\n",
        "            # Salvar o DataFrame em um arquivo CSV com o nome da empresa e ano\n",
        "            nome_arquivo = f\"{nome_empresa}_{ano_referencia}_dados.csv\"\n",
        "            df_empresa.to_csv(nome_arquivo, index=False)\n",
        "            print(f\"Dados da empresa '{nome_empresa}' no ano '{ano_referencia}' salvos em '{nome_arquivo}'\")\n",
        "        else:\n",
        "            print(f\"Nenhum dado encontrado para a empresa '{nome_empresa}' no ano '{ano_referencia}'.\")\n",
        "    else:\n",
        "        print(f\"Ano '{ano_referencia}' não encontrado nos dados carregados.\")\n",
        "\n",
        "# Exemplo de uso:\n",
        "nome_empresa = 'MARCOPOLO SA'  # Substitua pelo nome da empresa desejada\n",
        "ano_referencia = 2024  # Substitua pelo ano desejado\n",
        "extrair_dados_empresa(nome_empresa, ano_referencia)\n"
      ]
    },
    {
      "cell_type": "code",
      "execution_count": null,
      "metadata": {
        "id": "VbgVo-cFpkgf"
      },
      "outputs": [],
      "source": []
    }
  ],
  "metadata": {
    "colab": {
      "provenance": []
    },
    "kernelspec": {
      "display_name": "Python 3",
      "language": "python",
      "name": "python3"
    },
    "language_info": {
      "codemirror_mode": {
        "name": "ipython",
        "version": 3
      },
      "file_extension": ".py",
      "mimetype": "text/x-python",
      "name": "python",
      "nbconvert_exporter": "python",
      "pygments_lexer": "ipython3",
      "version": "3.11.3"
    }
  },
  "nbformat": 4,
  "nbformat_minor": 0
}
